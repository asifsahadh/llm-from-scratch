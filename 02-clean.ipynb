{
 "cells": [
  {
   "cell_type": "markdown",
   "id": "35d2ac6c",
   "metadata": {},
   "source": [
    "### LLM FROM SCRATCH"
   ]
  },
  {
   "cell_type": "markdown",
   "id": "81fc2989",
   "metadata": {},
   "source": [
    "##### _WORKFLOW_\n",
    "1. Get tokenizer\n",
    "2. Create dataloader class for data handling\n",
    "3. Create classes for MHA, Layer Norm & Feed Forward Network\n",
    "4. Create class for the Transformer Block and add classes from point number 3\n",
    "5. Create class for the SLM and add transformer class\n",
    "6. Define function for text generation, encoding & decoding\n",
    "7. Load the dataset\n",
    "8. Create the tarin and test loader duing the dataloader class from point number 2\n",
    "9. Create functions to calculate & record the loss during training\n",
    "10. Create function for model training & train the model\n",
    "11. Implement decoding startegies"
   ]
  },
  {
   "cell_type": "markdown",
   "id": "67453866",
   "metadata": {},
   "source": [
    "---"
   ]
  },
  {
   "cell_type": "markdown",
   "id": "9a88cf17",
   "metadata": {},
   "source": [
    "Import libraries."
   ]
  },
  {
   "cell_type": "code",
   "execution_count": 1,
   "id": "1e7ae605",
   "metadata": {},
   "outputs": [],
   "source": [
    "import numpy as np\n",
    "import torch\n",
    "import torch.nn as nn\n",
    "from torch.utils.data import Dataset, DataLoader\n",
    "import tiktoken\n",
    "import time"
   ]
  },
  {
   "cell_type": "markdown",
   "id": "ab08340f",
   "metadata": {},
   "source": [
    "Get the tokenizer."
   ]
  },
  {
   "cell_type": "code",
   "execution_count": 2,
   "id": "8aae9411",
   "metadata": {},
   "outputs": [],
   "source": [
    "tokenizer = tiktoken.get_encoding('gpt2')"
   ]
  },
  {
   "cell_type": "markdown",
   "id": "7e0fea4e",
   "metadata": {},
   "source": [
    "Class to create the dataset for our model."
   ]
  },
  {
   "cell_type": "code",
   "execution_count": 3,
   "id": "ee9534c4",
   "metadata": {},
   "outputs": [],
   "source": [
    "class DatasetV1(Dataset):\n",
    "    def __init__(self, txt, tokenizer, max_len, stride): # max_len is context size\n",
    "        self.input_ids = []\n",
    "        self.target_ids = []\n",
    "\n",
    "        # tokenize the text\n",
    "        token_ids = tokenizer.encode(txt, allowed_special = {\"<|endoftext|>\"})\n",
    "\n",
    "        # sliding window to create overlapping sequences\n",
    "        for i in range(0, len(token_ids) - max_len, stride):\n",
    "            input_chunk = token_ids[i:i + max_len]\n",
    "            target_chunk = token_ids[i + 1:i + max_len + 1]\n",
    "            self.input_ids.append(input_chunk)\n",
    "            self.target_ids.append(target_chunk)\n",
    "    \n",
    "    # the below 2 methods is required for Dataloader to be used\n",
    "    def __len__(self):\n",
    "        return len(self.input_ids)\n",
    "\n",
    "    def __getitem__(self, idx): # we are basically saying that if the input is the 50th tensor, then the output is the 50th tensor\n",
    "        return (\n",
    "            torch.tensor(self.input_ids[idx], dtype=torch.long),\n",
    "            torch.tensor(self.target_ids[idx], dtype=torch.long)\n",
    "        )"
   ]
  },
  {
   "cell_type": "markdown",
   "id": "8af064a2",
   "metadata": {},
   "source": [
    "Helper function to create dataloaders."
   ]
  },
  {
   "cell_type": "code",
   "execution_count": 4,
   "id": "60a7cbd8",
   "metadata": {},
   "outputs": [],
   "source": [
    "def create_dataloader_v1(txt, batch_size = 4, max_len = 256, stride = 128, shuffle = True, drop_last = True, num_workers = 0):\n",
    "    # drop last if last tensor is shorter than max_len\n",
    "    # batch size is the number of training ip-op data pairs to be used for training by whcih the parameters are updated\n",
    "    tokenizer = tiktoken.get_encoding('gpt2')\n",
    "    dataset = DatasetV1(txt, tokenizer, max_len, stride)\n",
    "    dataloader = DataLoader(\n",
    "        dataset, \n",
    "        batch_size = batch_size,\n",
    "        shuffle = shuffle,\n",
    "        drop_last = drop_last,\n",
    "        num_workers = num_workers\n",
    "    )\n",
    "    return dataloader"
   ]
  },
  {
   "cell_type": "markdown",
   "id": "d6c54e9f",
   "metadata": {},
   "source": [
    "The MHA class."
   ]
  },
  {
   "cell_type": "code",
   "execution_count": 5,
   "id": "30137f83",
   "metadata": {},
   "outputs": [],
   "source": [
    "class MultiHeadAttention(nn.Module):\n",
    "    def __init__(self, d_in, d_out, context_len, dropout, num_heads, qkv_bias = False):\n",
    "        super().__init__()\n",
    "        assert (d_out % num_heads == 0), \"d_out must be divisible by num_heads\"\n",
    "\n",
    "        # s2\n",
    "        self.d_out = d_out\n",
    "        self.num_heads = num_heads\n",
    "        self.head_dim = d_out // num_heads\n",
    "\n",
    "        # s3\n",
    "        self.W_q = nn.Linear(d_in, d_out, bias = qkv_bias)\n",
    "        self.W_k = nn.Linear(d_in, d_out, bias = qkv_bias)\n",
    "        self.W_v = nn.Linear(d_in, d_out, bias = qkv_bias)\n",
    "        self.out_proj = nn.Linear(d_out, d_out) # to combine head outputs\n",
    "        self.dropout = nn.Dropout(dropout) \n",
    "        self.register_buffer(\n",
    "            \"mask\",\n",
    "            torch.triu(torch.ones(context_len, context_len), diagonal = 1)\n",
    "        )\n",
    "\n",
    "    def forward(self, x):\n",
    "        b, num_tokens, d_out = x.shape # s1\n",
    "\n",
    "        # s4\n",
    "        keys = self.W_k(x)\n",
    "        queries = self.W_q(x)\n",
    "        values = self.W_v(x)\n",
    "        \n",
    "        # s5\n",
    "        keys = keys.view(b, num_tokens, self.num_heads, self.head_dim)\n",
    "        queries = queries.view(b, num_tokens, self.num_heads, self.head_dim)\n",
    "        values = values.view(b, num_tokens, self.num_heads, self.head_dim)\n",
    "\n",
    "        # s6\n",
    "        keys = keys.transpose(1, 2)\n",
    "        queries = queries.transpose(1, 2)\n",
    "        values = values.transpose(1, 2)\n",
    "\n",
    "        # s7\n",
    "        attention_scores = queries @ keys.transpose(2, 3)\n",
    "\n",
    "        mask_bool = self.mask.bool()[:num_tokens, :num_tokens]\n",
    "        attention_scores.masked_fill_(mask_bool, -torch.inf)\n",
    "        attention_weights = torch.softmax(attention_scores / keys.shape[-1] ** 0.5, dim = -1)\n",
    "        attention_weights = self.dropout(attention_weights) # s8\n",
    "\n",
    "        context_vec = (attention_weights @ values).transpose(1, 2) # s9 & s10\n",
    "        context_vec = context_vec.contiguous().view(b, num_tokens, self.d_out) # s11\n",
    "        context_vec = self.out_proj(context_vec) # optional\n",
    " \n",
    "        return context_vec"
   ]
  },
  {
   "cell_type": "markdown",
   "id": "f562ddc5",
   "metadata": {},
   "source": [
    "Classes for layer norm, GELU activation function & feed forwards network."
   ]
  },
  {
   "cell_type": "code",
   "execution_count": 6,
   "id": "cb87cc2b",
   "metadata": {},
   "outputs": [],
   "source": [
    "class LayerNorm(nn.Module):\n",
    "    def __init__(self, emb_dim):\n",
    "        super().__init__()\n",
    "        self.eps = 1e-5\n",
    "        self.scale = nn.Parameter(torch.ones(emb_dim))\n",
    "        self.shift = nn.Parameter(torch.zeros(emb_dim))\n",
    "\n",
    "    def forward(self, x):\n",
    "        mean = x.mean(dim = -1, keepdim = True)\n",
    "        var = x.var(dim = -1, keepdim = True, unbiased = False) # unbiased so var is divided by n-1\n",
    "        norm = (x - mean) / (torch.sqrt(var + self.eps)) # epsilon to prevent division by 0\n",
    "        return self.scale * norm + self.shift # element wise operations - trainable parameters to learn appropriate scaling and shifting of norm values that best suits the data\n",
    "    \n",
    "class GELU(nn.Module):\n",
    "    def __init__(self):\n",
    "        super().__init__()\n",
    "\n",
    "    def forward(self, x):\n",
    "        return 0.5 * x * (1 + torch.tanh(torch.sqrt(torch.tensor(2.0 / torch.pi)) * (x + 0.044715 * torch.pow(x, 3))))\n",
    "    \n",
    "class FeedForward(nn.Module):\n",
    "    def __init__(self, cfg):\n",
    "        super().__init__()\n",
    "        self.layers = nn.Sequential(\n",
    "            nn.Linear(cfg[\"emb_dim\"], 4 * cfg[\"emb_dim\"]), # expansion\n",
    "            GELU(), # activation\n",
    "            nn.Linear(4 * cfg[\"emb_dim\"], cfg[\"emb_dim\"]), # contraction\n",
    "        )\n",
    "    \n",
    "    def forward(self, x):\n",
    "        return self.layers(x)"
   ]
  },
  {
   "cell_type": "markdown",
   "id": "f2a8d497",
   "metadata": {},
   "source": [
    "The transformer block."
   ]
  },
  {
   "cell_type": "code",
   "execution_count": 7,
   "id": "d62c536d",
   "metadata": {},
   "outputs": [],
   "source": [
    "class TransformerBlock(nn.Module):\n",
    "    def __init__(self, cfg):\n",
    "        super().__init__()\n",
    "        self.att = MultiHeadAttention( # converts input to context vectors  \n",
    "            d_in = cfg[\"emb_dim\"],\n",
    "            d_out = cfg[\"emb_dim\"],\n",
    "            context_len = cfg[\"context_len\"],\n",
    "            num_heads = cfg[\"num_heads\"],\n",
    "            dropout = cfg[\"drop_rate\"],\n",
    "            qkv_bias = cfg[\"qkv_bias\"]\n",
    "        )\n",
    "        self.ff = FeedForward(cfg)\n",
    "        self.norm1 = LayerNorm(cfg[\"emb_dim\"])\n",
    "        self.norm2 = LayerNorm(cfg[\"emb_dim\"])\n",
    "        self.drop_shortcut = nn.Dropout(cfg[\"drop_rate\"])\n",
    "    \n",
    "    def forward(self, x):\n",
    "        # MHA\n",
    "        shortcut = x\n",
    "        x = self.norm1(x)\n",
    "        x = self.att(x) # shape: [batch size, num tokens, emb size]\n",
    "        x = self.drop_shortcut(x)\n",
    "        x = x + shortcut # f(x) + x\n",
    "\n",
    "        # FCL\n",
    "        shortcut = x\n",
    "        x = self.norm2(x)\n",
    "        x = self.ff(x)\n",
    "        x = self.drop_shortcut(x)\n",
    "        x = x + shortcut # f(x) + x\n",
    "\n",
    "        return x"
   ]
  },
  {
   "cell_type": "markdown",
   "id": "af0165ba",
   "metadata": {},
   "source": [
    "The SLM class."
   ]
  },
  {
   "cell_type": "code",
   "execution_count": 8,
   "id": "abbe595b",
   "metadata": {},
   "outputs": [],
   "source": [
    "class SLM(nn.Module):\n",
    "    def __init__(self, cfg):\n",
    "        super().__init__()\n",
    "        self.tok_emb = nn.Embedding(cfg[\"vocab_size\"], cfg[\"emb_dim\"])\n",
    "        self.pos_emb = nn.Embedding(cfg[\"context_len\"], cfg[\"emb_dim\"])\n",
    "        self.drop_emb = nn.Dropout(cfg[\"drop_rate\"])\n",
    "        self.trf_blocks = nn.Sequential(\n",
    "            *[TransformerBlock(cfg) for _ in range(cfg[\"n_layers\"])]\n",
    "        )\n",
    "        self.final_norm = LayerNorm(cfg[\"emb_dim\"])\n",
    "        self.out_head = nn.Linear(\n",
    "            cfg[\"emb_dim\"], cfg[\"vocab_size\"], bias = False\n",
    "        )\n",
    "        \n",
    "    def forward(self, in_idx): # input batch\n",
    "        batch_size, seq_len = in_idx.shape\n",
    "        tok_embeds = self.tok_emb(in_idx)\n",
    "        pos_embeds = self.pos_emb(torch.arange(seq_len, device = in_idx.device))\n",
    "        x = tok_embeds + pos_embeds\n",
    "        x = self.drop_emb(x)\n",
    "        x = self.trf_blocks(x)\n",
    "        x = self.final_norm(x)\n",
    "        logits = self.out_head(x)\n",
    "        return logits"
   ]
  },
  {
   "cell_type": "markdown",
   "id": "f3664aa5",
   "metadata": {},
   "source": [
    "Helper function when generating text during each epoch of training."
   ]
  },
  {
   "cell_type": "code",
   "execution_count": 9,
   "id": "c59ab6b2",
   "metadata": {},
   "outputs": [],
   "source": [
    "def generate_text_simple(model, idx, max_new_tokens, context_size): # idx is the input batch\n",
    "    for _ in range(max_new_tokens):\n",
    "        # crop current context\n",
    "        idx_cond = idx[:, -context_size:]\n",
    "        # get predictions\n",
    "        with torch.no_grad():\n",
    "            logits = model(idx_cond) # batch_size x tokens_num x vocab_size\n",
    "        # get the last time step (last set of logits)\n",
    "        logits = logits[:, -1, :]\n",
    "        # apply softmax\n",
    "        probs = torch.softmax(logits, dim = -1)\n",
    "        # get id of max\n",
    "        idx_next = torch.argmax(probs, dim = -1, keepdim = True)\n",
    "        # append id to running sequence\n",
    "        idx = torch.cat((idx, idx_next), dim = -1)\n",
    "    return idx"
   ]
  },
  {
   "cell_type": "markdown",
   "id": "d7306da6",
   "metadata": {},
   "source": [
    "Configure model settings."
   ]
  },
  {
   "cell_type": "code",
   "execution_count": 10,
   "id": "6172c2fa",
   "metadata": {},
   "outputs": [],
   "source": [
    "SLM_CONFIG = {\n",
    "    \"vocab_size\" : 50257,\n",
    "    \"context_len\" : 512,\n",
    "    \"emb_dim\" : 768,\n",
    "    \"num_heads\" : 8, # attention heads\n",
    "    \"n_layers\" : 8, # transformer blocks\n",
    "    \"drop_rate\" : 0.1,\n",
    "    \"qkv_bias\" : False\n",
    "}"
   ]
  },
  {
   "cell_type": "markdown",
   "id": "49ae7919",
   "metadata": {},
   "source": [
    "Define model."
   ]
  },
  {
   "cell_type": "code",
   "execution_count": 11,
   "id": "7bcbb5a5",
   "metadata": {},
   "outputs": [],
   "source": [
    "model = SLM(SLM_CONFIG)"
   ]
  },
  {
   "cell_type": "markdown",
   "id": "29c9f724",
   "metadata": {},
   "source": [
    "Function for encoding & decoding."
   ]
  },
  {
   "cell_type": "code",
   "execution_count": 12,
   "id": "257c7e99",
   "metadata": {},
   "outputs": [],
   "source": [
    "def text_to_token_ids(text, tokenizer):\n",
    "    encoded = tokenizer.encode(text, allowed_special = {'<|endoftext|>'})\n",
    "    encoded_tensor = torch.tensor(encoded).unsqueeze(0)\n",
    "    return encoded_tensor\n",
    "\n",
    "def token_ids_to_text(token_ids, tokenizer):\n",
    "    flat = token_ids.squeeze(0)\n",
    "    return tokenizer.decode(flat.tolist())"
   ]
  },
  {
   "cell_type": "markdown",
   "id": "ad055a60",
   "metadata": {},
   "source": [
    "Load Openweb text data."
   ]
  },
  {
   "cell_type": "code",
   "execution_count": 13,
   "id": "0df87da8",
   "metadata": {},
   "outputs": [
    {
     "name": "stdout",
     "output_type": "stream",
     "text": [
      "Number of tokens for whole dataset: 3,378,008,151\n"
     ]
    }
   ],
   "source": [
    "data = np.memmap(\"train.bin\", dtype = np.uint16, mode = \"r\")\n",
    "print(\"Number of tokens for whole dataset:\", f\"{len(data):,}\")\n",
    "enc = tiktoken.get_encoding(\"gpt2\")"
   ]
  },
  {
   "cell_type": "code",
   "execution_count": 14,
   "id": "61a50d2a",
   "metadata": {},
   "outputs": [
    {
     "name": "stdout",
     "output_type": "stream",
     "text": [
      "Number of tokens for small dataset: 16,890,040\n"
     ]
    }
   ],
   "source": [
    "small = int(len(data) / 200)\n",
    "print(\"Number of tokens for small dataset:\", f\"{len(data[:small]):,}\")"
   ]
  },
  {
   "cell_type": "code",
   "execution_count": 15,
   "id": "02add6e4",
   "metadata": {},
   "outputs": [],
   "source": [
    "start = time.time()\n",
    "raw_text = enc.decode(data[:small])\n",
    "end = time.time()"
   ]
  },
  {
   "cell_type": "code",
   "execution_count": 16,
   "id": "f98ed7f9",
   "metadata": {},
   "outputs": [
    {
     "name": "stdout",
     "output_type": "stream",
     "text": [
      "Time taken to load the text data: 0.084 minutes\n",
      "Sample text: Freedom and democracy are said to be guarantees of human rights, but as the NSA spying scandal recently showed\n"
     ]
    }
   ],
   "source": [
    "print(f\"Time taken to load the text data: {(end - start) / 60:.3f} minutes\")\n",
    "print(f\"Sample text: {raw_text[:110]}\")"
   ]
  },
  {
   "cell_type": "markdown",
   "id": "a7ccb530",
   "metadata": {},
   "source": [
    "Adding personal data."
   ]
  },
  {
   "cell_type": "code",
   "execution_count": 17,
   "id": "706e6de8",
   "metadata": {},
   "outputs": [],
   "source": [
    "with open(\"me.txt\", \"r\", encoding = \"utf-8\") as t:\n",
    "    personal_text = t.read()\n",
    "\n",
    "raw_text += personal_text"
   ]
  },
  {
   "cell_type": "markdown",
   "id": "de870b8e",
   "metadata": {},
   "source": [
    "Create data loader (a.k.a, PyTorch way of making train-test-splits)."
   ]
  },
  {
   "cell_type": "code",
   "execution_count": 18,
   "id": "7f39a22c",
   "metadata": {},
   "outputs": [],
   "source": [
    "train_ratio = 0.9\n",
    "split_idx = int(train_ratio * len(raw_text))\n",
    "train_data = raw_text[:split_idx]\n",
    "test_data = raw_text[split_idx:]\n",
    "\n",
    "torch.manual_seed(123)\n",
    "\n",
    "train_loader = create_dataloader_v1(\n",
    "    train_data,\n",
    "    batch_size = 2,\n",
    "    max_len = SLM_CONFIG[\"context_len\"],\n",
    "    stride = SLM_CONFIG[\"context_len\"],\n",
    "    drop_last = True,\n",
    "    shuffle = True,\n",
    "    num_workers = 0\n",
    ")\n",
    "\n",
    "test_loader = create_dataloader_v1(\n",
    "    test_data,\n",
    "    batch_size = 2,\n",
    "    max_len = SLM_CONFIG[\"context_len\"],\n",
    "    stride = SLM_CONFIG[\"context_len\"],\n",
    "    drop_last = False,\n",
    "    shuffle = False,\n",
    "    num_workers = 0\n",
    ")"
   ]
  },
  {
   "cell_type": "code",
   "execution_count": 19,
   "id": "da1451cd",
   "metadata": {},
   "outputs": [
    {
     "data": {
      "text/plain": [
       "14875"
      ]
     },
     "execution_count": 19,
     "metadata": {},
     "output_type": "execute_result"
    }
   ],
   "source": [
    "len(train_loader)"
   ]
  },
  {
   "cell_type": "markdown",
   "id": "44fe391a",
   "metadata": {},
   "source": [
    "Functions to calculate loss."
   ]
  },
  {
   "cell_type": "code",
   "execution_count": 40,
   "id": "82f3b57b",
   "metadata": {},
   "outputs": [],
   "source": [
    "def calc_loss_batch(input_batch, target_batch, model, device):\n",
    "    input_batch, target_batch = input_batch.to(device), target_batch.to(device)\n",
    "    logits = model(input_batch)\n",
    "    loss = torch.nn.functional.cross_entropy(logits.flatten(0, 1), target_batch.flatten()) # this does all the softmax & everything\n",
    "    return loss\n",
    "\n",
    "def calc_loss_loader(data_loader, model, device, num_batches = None): # this will show the loss of the LM\n",
    "    total_loss = 0\n",
    "    if len(data_loader) == 0:\n",
    "        return float(\"nan\")\n",
    "    elif num_batches is None:\n",
    "        num_batches = len(data_loader)\n",
    "    else:\n",
    "        num_batches = min(num_batches, len(data_loader))\n",
    "    \n",
    "    for i, (input_batch, target_batch) in enumerate(data_loader):\n",
    "        if i < num_batches:\n",
    "            loss = calc_loss_batch(input_batch, target_batch, model, device)\n",
    "            total_loss += loss.item()\n",
    "        else:\n",
    "            break\n",
    "    \n",
    "    return total_loss / num_batches # mean loss per batch"
   ]
  },
  {
   "cell_type": "markdown",
   "id": "d1f43f02",
   "metadata": {},
   "source": [
    "Function to record loss."
   ]
  },
  {
   "cell_type": "code",
   "execution_count": 41,
   "id": "0102f492",
   "metadata": {},
   "outputs": [],
   "source": [
    "# model evaluation function\n",
    "def evaluate_model(model, train_loader, test_loader, device, eval_iter):\n",
    "    model.eval()\n",
    "    with torch.no_grad():\n",
    "        train_loss = calc_loss_loader(train_loader, model, device, num_batches = eval_iter)\n",
    "        test_loss = calc_loss_loader(test_loader, model, device, num_batches = eval_iter)\n",
    "    model.train()\n",
    "    return train_loss, test_loss"
   ]
  },
  {
   "cell_type": "markdown",
   "id": "9fbe3ca0",
   "metadata": {},
   "source": [
    "Function to generate text after each epoch during training."
   ]
  },
  {
   "cell_type": "code",
   "execution_count": 42,
   "id": "b32cd120",
   "metadata": {},
   "outputs": [],
   "source": [
    "def generate_and_print_sample(model, tokenizer, device, start_context):\n",
    "    model.eval()\n",
    "    context_size = model.pos_emb.weight.shape[0]\n",
    "    encoded = text_to_token_ids(start_context, tokenizer).to(device)\n",
    "    with torch.no_grad():\n",
    "        token_ids = generate_text_simple(\n",
    "            model = model, idx = encoded, max_new_tokens = 50, context_size = context_size\n",
    "        )\n",
    "    decoded_text = token_ids_to_text(token_ids, tokenizer)\n",
    "    print(decoded_text.replace(\"\\n\", \" \"))\n",
    "    print()\n",
    "    model.train() # set it back to training mode"
   ]
  },
  {
   "cell_type": "markdown",
   "id": "f65a87ef",
   "metadata": {},
   "source": [
    "Function to train the model."
   ]
  },
  {
   "cell_type": "code",
   "execution_count": null,
   "id": "be4399ff",
   "metadata": {},
   "outputs": [],
   "source": [
    "def train_model_simple(model, train_loader, test_loader, optimizer, device, \n",
    "                       num_epochs, eval_freq, eval_iter, start_context, tokenizer):\n",
    "    \n",
    "    train_losses, test_losses, track_tokens_seen = [], [], []\n",
    "    tokens_seen, global_step = 0, -1\n",
    "\n",
    "    for epoch in range(num_epochs):\n",
    "        model.train() # set model to training mode\n",
    "\n",
    "        for input_batch, target_batch in train_loader:\n",
    "            optimizer.zero_grad() # reset gradients from previous batch\n",
    "            loss = calc_loss_batch(input_batch, target_batch, model, device)\n",
    "            loss.backward()\n",
    "            optimizer.step()\n",
    "            tokens_seen += input_batch.numel() # return number of tokens seen\n",
    "            global_step += 1\n",
    "\n",
    "            # evaluation (optional)\n",
    "            if global_step % eval_freq == 0: # only after a set of batches is used for training\n",
    "                train_loss, test_loss = evaluate_model(\n",
    "                    model, train_loader, test_loader, device, eval_iter\n",
    "                )\n",
    "                train_losses.append(train_loss)\n",
    "                test_losses.append(test_loss)\n",
    "                track_tokens_seen.append(tokens_seen)\n",
    "                print(f\"Epoch {epoch + 1} (Step {global_step:04d}): \"\n",
    "                      f\"Train loss {train_loss:.3f}, Test loss {test_loss:.3f}\")\n",
    "            \n",
    "        # print sample text from each epoch\n",
    "        generate_and_print_sample(\n",
    "            model, tokenizer, device, start_context\n",
    "        )\n",
    "        \n",
    "    return train_losses, test_losses, track_tokens_seen"
   ]
  },
  {
   "cell_type": "markdown",
   "id": "03e9c0f1",
   "metadata": {},
   "source": [
    "Train the model."
   ]
  },
  {
   "cell_type": "code",
   "execution_count": 44,
   "id": "13614a4e",
   "metadata": {},
   "outputs": [
    {
     "name": "stdout",
     "output_type": "stream",
     "text": [
      "Device: cuda\n"
     ]
    },
    {
     "data": {
      "text/plain": [
       "SLM(\n",
       "  (tok_emb): Embedding(50257, 768)\n",
       "  (pos_emb): Embedding(512, 768)\n",
       "  (drop_emb): Dropout(p=0.1, inplace=False)\n",
       "  (trf_blocks): Sequential(\n",
       "    (0): TransformerBlock(\n",
       "      (att): MultiHeadAttention(\n",
       "        (W_q): Linear(in_features=768, out_features=768, bias=False)\n",
       "        (W_k): Linear(in_features=768, out_features=768, bias=False)\n",
       "        (W_v): Linear(in_features=768, out_features=768, bias=False)\n",
       "        (out_proj): Linear(in_features=768, out_features=768, bias=True)\n",
       "        (dropout): Dropout(p=0.1, inplace=False)\n",
       "      )\n",
       "      (ff): FeedForward(\n",
       "        (layers): Sequential(\n",
       "          (0): Linear(in_features=768, out_features=3072, bias=True)\n",
       "          (1): GELU()\n",
       "          (2): Linear(in_features=3072, out_features=768, bias=True)\n",
       "        )\n",
       "      )\n",
       "      (norm1): LayerNorm()\n",
       "      (norm2): LayerNorm()\n",
       "      (drop_shortcut): Dropout(p=0.1, inplace=False)\n",
       "    )\n",
       "    (1): TransformerBlock(\n",
       "      (att): MultiHeadAttention(\n",
       "        (W_q): Linear(in_features=768, out_features=768, bias=False)\n",
       "        (W_k): Linear(in_features=768, out_features=768, bias=False)\n",
       "        (W_v): Linear(in_features=768, out_features=768, bias=False)\n",
       "        (out_proj): Linear(in_features=768, out_features=768, bias=True)\n",
       "        (dropout): Dropout(p=0.1, inplace=False)\n",
       "      )\n",
       "      (ff): FeedForward(\n",
       "        (layers): Sequential(\n",
       "          (0): Linear(in_features=768, out_features=3072, bias=True)\n",
       "          (1): GELU()\n",
       "          (2): Linear(in_features=3072, out_features=768, bias=True)\n",
       "        )\n",
       "      )\n",
       "      (norm1): LayerNorm()\n",
       "      (norm2): LayerNorm()\n",
       "      (drop_shortcut): Dropout(p=0.1, inplace=False)\n",
       "    )\n",
       "    (2): TransformerBlock(\n",
       "      (att): MultiHeadAttention(\n",
       "        (W_q): Linear(in_features=768, out_features=768, bias=False)\n",
       "        (W_k): Linear(in_features=768, out_features=768, bias=False)\n",
       "        (W_v): Linear(in_features=768, out_features=768, bias=False)\n",
       "        (out_proj): Linear(in_features=768, out_features=768, bias=True)\n",
       "        (dropout): Dropout(p=0.1, inplace=False)\n",
       "      )\n",
       "      (ff): FeedForward(\n",
       "        (layers): Sequential(\n",
       "          (0): Linear(in_features=768, out_features=3072, bias=True)\n",
       "          (1): GELU()\n",
       "          (2): Linear(in_features=3072, out_features=768, bias=True)\n",
       "        )\n",
       "      )\n",
       "      (norm1): LayerNorm()\n",
       "      (norm2): LayerNorm()\n",
       "      (drop_shortcut): Dropout(p=0.1, inplace=False)\n",
       "    )\n",
       "    (3): TransformerBlock(\n",
       "      (att): MultiHeadAttention(\n",
       "        (W_q): Linear(in_features=768, out_features=768, bias=False)\n",
       "        (W_k): Linear(in_features=768, out_features=768, bias=False)\n",
       "        (W_v): Linear(in_features=768, out_features=768, bias=False)\n",
       "        (out_proj): Linear(in_features=768, out_features=768, bias=True)\n",
       "        (dropout): Dropout(p=0.1, inplace=False)\n",
       "      )\n",
       "      (ff): FeedForward(\n",
       "        (layers): Sequential(\n",
       "          (0): Linear(in_features=768, out_features=3072, bias=True)\n",
       "          (1): GELU()\n",
       "          (2): Linear(in_features=3072, out_features=768, bias=True)\n",
       "        )\n",
       "      )\n",
       "      (norm1): LayerNorm()\n",
       "      (norm2): LayerNorm()\n",
       "      (drop_shortcut): Dropout(p=0.1, inplace=False)\n",
       "    )\n",
       "    (4): TransformerBlock(\n",
       "      (att): MultiHeadAttention(\n",
       "        (W_q): Linear(in_features=768, out_features=768, bias=False)\n",
       "        (W_k): Linear(in_features=768, out_features=768, bias=False)\n",
       "        (W_v): Linear(in_features=768, out_features=768, bias=False)\n",
       "        (out_proj): Linear(in_features=768, out_features=768, bias=True)\n",
       "        (dropout): Dropout(p=0.1, inplace=False)\n",
       "      )\n",
       "      (ff): FeedForward(\n",
       "        (layers): Sequential(\n",
       "          (0): Linear(in_features=768, out_features=3072, bias=True)\n",
       "          (1): GELU()\n",
       "          (2): Linear(in_features=3072, out_features=768, bias=True)\n",
       "        )\n",
       "      )\n",
       "      (norm1): LayerNorm()\n",
       "      (norm2): LayerNorm()\n",
       "      (drop_shortcut): Dropout(p=0.1, inplace=False)\n",
       "    )\n",
       "    (5): TransformerBlock(\n",
       "      (att): MultiHeadAttention(\n",
       "        (W_q): Linear(in_features=768, out_features=768, bias=False)\n",
       "        (W_k): Linear(in_features=768, out_features=768, bias=False)\n",
       "        (W_v): Linear(in_features=768, out_features=768, bias=False)\n",
       "        (out_proj): Linear(in_features=768, out_features=768, bias=True)\n",
       "        (dropout): Dropout(p=0.1, inplace=False)\n",
       "      )\n",
       "      (ff): FeedForward(\n",
       "        (layers): Sequential(\n",
       "          (0): Linear(in_features=768, out_features=3072, bias=True)\n",
       "          (1): GELU()\n",
       "          (2): Linear(in_features=3072, out_features=768, bias=True)\n",
       "        )\n",
       "      )\n",
       "      (norm1): LayerNorm()\n",
       "      (norm2): LayerNorm()\n",
       "      (drop_shortcut): Dropout(p=0.1, inplace=False)\n",
       "    )\n",
       "    (6): TransformerBlock(\n",
       "      (att): MultiHeadAttention(\n",
       "        (W_q): Linear(in_features=768, out_features=768, bias=False)\n",
       "        (W_k): Linear(in_features=768, out_features=768, bias=False)\n",
       "        (W_v): Linear(in_features=768, out_features=768, bias=False)\n",
       "        (out_proj): Linear(in_features=768, out_features=768, bias=True)\n",
       "        (dropout): Dropout(p=0.1, inplace=False)\n",
       "      )\n",
       "      (ff): FeedForward(\n",
       "        (layers): Sequential(\n",
       "          (0): Linear(in_features=768, out_features=3072, bias=True)\n",
       "          (1): GELU()\n",
       "          (2): Linear(in_features=3072, out_features=768, bias=True)\n",
       "        )\n",
       "      )\n",
       "      (norm1): LayerNorm()\n",
       "      (norm2): LayerNorm()\n",
       "      (drop_shortcut): Dropout(p=0.1, inplace=False)\n",
       "    )\n",
       "    (7): TransformerBlock(\n",
       "      (att): MultiHeadAttention(\n",
       "        (W_q): Linear(in_features=768, out_features=768, bias=False)\n",
       "        (W_k): Linear(in_features=768, out_features=768, bias=False)\n",
       "        (W_v): Linear(in_features=768, out_features=768, bias=False)\n",
       "        (out_proj): Linear(in_features=768, out_features=768, bias=True)\n",
       "        (dropout): Dropout(p=0.1, inplace=False)\n",
       "      )\n",
       "      (ff): FeedForward(\n",
       "        (layers): Sequential(\n",
       "          (0): Linear(in_features=768, out_features=3072, bias=True)\n",
       "          (1): GELU()\n",
       "          (2): Linear(in_features=3072, out_features=768, bias=True)\n",
       "        )\n",
       "      )\n",
       "      (norm1): LayerNorm()\n",
       "      (norm2): LayerNorm()\n",
       "      (drop_shortcut): Dropout(p=0.1, inplace=False)\n",
       "    )\n",
       "  )\n",
       "  (final_norm): LayerNorm()\n",
       "  (out_head): Linear(in_features=768, out_features=50257, bias=False)\n",
       ")"
      ]
     },
     "execution_count": 44,
     "metadata": {},
     "output_type": "execute_result"
    }
   ],
   "source": [
    "device = torch.device(\"cuda\" if torch.cuda.is_available() else \"cpu\")\n",
    "print(\"Device:\", device)\n",
    "model.to(device)"
   ]
  },
  {
   "cell_type": "code",
   "execution_count": 45,
   "id": "686a19e1",
   "metadata": {},
   "outputs": [
    {
     "name": "stdout",
     "output_type": "stream",
     "text": [
      "Total number of parameters to train: 134,274,048\n"
     ]
    }
   ],
   "source": [
    "total_params = sum(p.numel() for p in model.parameters())\n",
    "print(f\"Total number of parameters to train: {total_params:,}\")"
   ]
  },
  {
   "cell_type": "code",
   "execution_count": 46,
   "id": "7b241282",
   "metadata": {},
   "outputs": [
    {
     "name": "stdout",
     "output_type": "stream",
     "text": [
      "Epoch 1 (Step 0000): Train loss 10.252, Test loss 10.256\n",
      "Epoch 1 (Step 0500): Train loss 6.927, Test loss 6.985\n",
      "Epoch 1 (Step 1000): Train loss 6.755, Test loss 6.827\n",
      "Epoch 1 (Step 1500): Train loss 6.528, Test loss 6.625\n",
      "Epoch 1 (Step 2000): Train loss 6.458, Test loss 6.542\n",
      "Epoch 1 (Step 2500): Train loss 6.358, Test loss 6.486\n",
      "Epoch 1 (Step 3000): Train loss 6.308, Test loss 6.409\n",
      "Epoch 1 (Step 3500): Train loss 6.275, Test loss 6.379\n",
      "Epoch 1 (Step 4000): Train loss 6.202, Test loss 6.334\n",
      "Epoch 1 (Step 4500): Train loss 6.172, Test loss 6.303\n",
      "Epoch 1 (Step 5000): Train loss 6.132, Test loss 6.276\n",
      "Epoch 1 (Step 5500): Train loss 6.072, Test loss 6.251\n",
      "Epoch 1 (Step 6000): Train loss 6.027, Test loss 6.204\n",
      "Epoch 1 (Step 6500): Train loss 6.035, Test loss 6.207\n",
      "Epoch 1 (Step 7000): Train loss 6.030, Test loss 6.181\n",
      "Epoch 1 (Step 7500): Train loss 6.000, Test loss 6.183\n",
      "Epoch 1 (Step 8000): Train loss 5.971, Test loss 6.139\n",
      "Epoch 1 (Step 8500): Train loss 5.968, Test loss 6.130\n",
      "Epoch 1 (Step 9000): Train loss 5.942, Test loss 6.109\n",
      "Epoch 1 (Step 9500): Train loss 5.886, Test loss 6.081\n",
      "Epoch 1 (Step 10000): Train loss 5.889, Test loss 6.056\n",
      "Epoch 1 (Step 10500): Train loss 5.899, Test loss 6.063\n",
      "Epoch 1 (Step 11000): Train loss 5.866, Test loss 6.072\n",
      "Epoch 1 (Step 11500): Train loss 5.816, Test loss 6.019\n",
      "Epoch 1 (Step 12000): Train loss 5.832, Test loss 6.009\n",
      "Epoch 1 (Step 12500): Train loss 5.778, Test loss 5.982\n",
      "Epoch 1 (Step 13000): Train loss 5.775, Test loss 5.982\n",
      "Epoch 1 (Step 13500): Train loss 5.745, Test loss 5.944\n",
      "Epoch 1 (Step 14000): Train loss 5.706, Test loss 5.931\n",
      "Epoch 1 (Step 14500): Train loss 5.686, Test loss 5.900\n",
      "What are human rights?  The woman who have been a woman who have been a woman who was a woman who was a woman who was not a woman who were not a woman who was not a woman who were not a woman who was not a woman who were not\n",
      "\n",
      "Epoch 2 (Step 15000): Train loss 5.670, Test loss 5.894\n",
      "Epoch 2 (Step 15500): Train loss 5.632, Test loss 5.880\n",
      "Epoch 2 (Step 16000): Train loss 5.627, Test loss 5.857\n",
      "Epoch 2 (Step 16500): Train loss 5.569, Test loss 5.812\n",
      "Epoch 2 (Step 17000): Train loss 5.551, Test loss 5.791\n",
      "Epoch 2 (Step 17500): Train loss 5.554, Test loss 5.794\n",
      "Epoch 2 (Step 18000): Train loss 5.523, Test loss 5.737\n",
      "Epoch 2 (Step 18500): Train loss 5.464, Test loss 5.703\n",
      "Epoch 2 (Step 19000): Train loss 5.426, Test loss 5.692\n",
      "Epoch 2 (Step 19500): Train loss 5.427, Test loss 5.677\n",
      "Epoch 2 (Step 20000): Train loss 5.387, Test loss 5.648\n",
      "Epoch 2 (Step 20500): Train loss 5.342, Test loss 5.643\n",
      "Epoch 2 (Step 21000): Train loss 5.319, Test loss 5.601\n",
      "Epoch 2 (Step 21500): Train loss 5.299, Test loss 5.578\n",
      "Epoch 2 (Step 22000): Train loss 5.282, Test loss 5.552\n",
      "Epoch 2 (Step 22500): Train loss 5.233, Test loss 5.537\n",
      "Epoch 2 (Step 23000): Train loss 5.219, Test loss 5.528\n",
      "Epoch 2 (Step 23500): Train loss 5.229, Test loss 5.508\n",
      "Epoch 2 (Step 24000): Train loss 5.191, Test loss 5.491\n",
      "Epoch 2 (Step 24500): Train loss 5.204, Test loss 5.470\n",
      "Epoch 2 (Step 25000): Train loss 5.173, Test loss 5.457\n",
      "Epoch 2 (Step 25500): Train loss 5.152, Test loss 5.469\n",
      "Epoch 2 (Step 26000): Train loss 5.105, Test loss 5.416\n",
      "Epoch 2 (Step 26500): Train loss 5.080, Test loss 5.400\n",
      "Epoch 2 (Step 27000): Train loss 5.052, Test loss 5.372\n",
      "Epoch 2 (Step 27500): Train loss 5.036, Test loss 5.372\n",
      "Epoch 2 (Step 28000): Train loss 5.049, Test loss 5.371\n",
      "Epoch 2 (Step 28500): Train loss 4.998, Test loss 5.344\n",
      "Epoch 2 (Step 29000): Train loss 4.987, Test loss 5.341\n",
      "Epoch 2 (Step 29500): Train loss 4.996, Test loss 5.317\n",
      "What are human rights?  “I don’t think it’s not a good way to do it.”  “I’m not going to be a good idea of how to do it,” he said.\n",
      "\n",
      "Epoch 3 (Step 30000): Train loss 4.995, Test loss 5.327\n",
      "Epoch 3 (Step 30500): Train loss 4.922, Test loss 5.304\n",
      "Epoch 3 (Step 31000): Train loss 4.915, Test loss 5.307\n",
      "Epoch 3 (Step 31500): Train loss 4.926, Test loss 5.285\n",
      "Epoch 3 (Step 32000): Train loss 4.880, Test loss 5.285\n",
      "Epoch 3 (Step 32500): Train loss 4.889, Test loss 5.279\n",
      "Epoch 3 (Step 33000): Train loss 4.868, Test loss 5.275\n",
      "Epoch 3 (Step 33500): Train loss 4.857, Test loss 5.259\n",
      "Epoch 3 (Step 34000): Train loss 4.814, Test loss 5.230\n",
      "Epoch 3 (Step 34500): Train loss 4.836, Test loss 5.242\n",
      "Epoch 3 (Step 35000): Train loss 4.806, Test loss 5.221\n",
      "Epoch 3 (Step 35500): Train loss 4.808, Test loss 5.222\n",
      "Epoch 3 (Step 36000): Train loss 4.796, Test loss 5.211\n",
      "Epoch 3 (Step 36500): Train loss 4.756, Test loss 5.202\n",
      "Epoch 3 (Step 37000): Train loss 4.767, Test loss 5.181\n",
      "Epoch 3 (Step 37500): Train loss 4.783, Test loss 5.174\n",
      "Epoch 3 (Step 38000): Train loss 4.737, Test loss 5.155\n",
      "Epoch 3 (Step 38500): Train loss 4.733, Test loss 5.157\n",
      "Epoch 3 (Step 39000): Train loss 4.719, Test loss 5.145\n",
      "Epoch 3 (Step 39500): Train loss 4.678, Test loss 5.133\n",
      "Epoch 3 (Step 40000): Train loss 4.707, Test loss 5.137\n",
      "Epoch 3 (Step 40500): Train loss 4.705, Test loss 5.139\n",
      "Epoch 3 (Step 41000): Train loss 4.697, Test loss 5.123\n",
      "Epoch 3 (Step 41500): Train loss 4.684, Test loss 5.113\n",
      "Epoch 3 (Step 42000): Train loss 4.665, Test loss 5.115\n",
      "Epoch 3 (Step 42500): Train loss 4.676, Test loss 5.091\n",
      "Epoch 3 (Step 43000): Train loss 4.657, Test loss 5.085\n",
      "Epoch 3 (Step 43500): Train loss 4.625, Test loss 5.076\n",
      "Epoch 3 (Step 44000): Train loss 4.635, Test loss 5.075\n",
      "Epoch 3 (Step 44500): Train loss 4.624, Test loss 5.061\n",
      "What are human rights?  The problem is that it is that it is not a problem. It is not a problem. It is not a problem. It is not a problem. It is not a problem. It is not a problem. It is not a problem\n",
      "\n",
      "Epoch 4 (Step 45000): Train loss 4.590, Test loss 5.084\n",
      "Epoch 4 (Step 45500): Train loss 4.606, Test loss 5.085\n",
      "Epoch 4 (Step 46000): Train loss 4.593, Test loss 5.081\n",
      "Epoch 4 (Step 46500): Train loss 4.569, Test loss 5.063\n",
      "Epoch 4 (Step 47000): Train loss 4.545, Test loss 5.060\n",
      "Epoch 4 (Step 47500): Train loss 4.549, Test loss 5.067\n",
      "Epoch 4 (Step 48000): Train loss 4.557, Test loss 5.054\n",
      "Epoch 4 (Step 48500): Train loss 4.552, Test loss 5.052\n",
      "Epoch 4 (Step 49000): Train loss 4.507, Test loss 5.047\n",
      "Epoch 4 (Step 49500): Train loss 4.527, Test loss 5.027\n",
      "Epoch 4 (Step 50000): Train loss 4.488, Test loss 5.027\n",
      "Epoch 4 (Step 50500): Train loss 4.522, Test loss 5.026\n",
      "Epoch 4 (Step 51000): Train loss 4.482, Test loss 5.012\n",
      "Epoch 4 (Step 51500): Train loss 4.529, Test loss 5.017\n",
      "Epoch 4 (Step 52000): Train loss 4.517, Test loss 5.009\n",
      "Epoch 4 (Step 52500): Train loss 4.473, Test loss 5.007\n",
      "Epoch 4 (Step 53000): Train loss 4.463, Test loss 4.998\n",
      "Epoch 4 (Step 53500): Train loss 4.471, Test loss 4.985\n",
      "Epoch 4 (Step 54000): Train loss 4.469, Test loss 4.980\n",
      "Epoch 4 (Step 54500): Train loss 4.421, Test loss 4.977\n",
      "Epoch 4 (Step 55000): Train loss 4.466, Test loss 4.969\n",
      "Epoch 4 (Step 55500): Train loss 4.448, Test loss 4.969\n",
      "Epoch 4 (Step 56000): Train loss 4.484, Test loss 4.983\n",
      "Epoch 4 (Step 56500): Train loss 4.402, Test loss 4.949\n",
      "Epoch 4 (Step 57000): Train loss 4.440, Test loss 4.955\n",
      "Epoch 4 (Step 57500): Train loss 4.439, Test loss 4.956\n",
      "Epoch 4 (Step 58000): Train loss 4.418, Test loss 4.933\n",
      "Epoch 4 (Step 58500): Train loss 4.435, Test loss 4.939\n",
      "Epoch 4 (Step 59000): Train loss 4.400, Test loss 4.936\n",
      "What are human rights?  The first thing that I can do is to be a good person. I don’t want to be a good person. I don’t want to be a good person. I don’t want to be a good\n",
      "\n",
      "Epoch 5 (Step 59500): Train loss 4.389, Test loss 4.922\n",
      "Epoch 5 (Step 60000): Train loss 4.373, Test loss 4.934\n",
      "Epoch 5 (Step 60500): Train loss 4.368, Test loss 4.937\n",
      "Epoch 5 (Step 61000): Train loss 4.373, Test loss 4.954\n",
      "Epoch 5 (Step 61500): Train loss 4.362, Test loss 4.939\n",
      "Epoch 5 (Step 62000): Train loss 4.346, Test loss 4.930\n",
      "Epoch 5 (Step 62500): Train loss 4.325, Test loss 4.928\n",
      "Epoch 5 (Step 63000): Train loss 4.308, Test loss 4.925\n",
      "Epoch 5 (Step 63500): Train loss 4.371, Test loss 4.931\n",
      "Epoch 5 (Step 64000): Train loss 4.317, Test loss 4.913\n",
      "Epoch 5 (Step 64500): Train loss 4.347, Test loss 4.919\n",
      "Epoch 5 (Step 65000): Train loss 4.332, Test loss 4.904\n",
      "Epoch 5 (Step 65500): Train loss 4.329, Test loss 4.895\n",
      "Epoch 5 (Step 66000): Train loss 4.271, Test loss 4.889\n",
      "Epoch 5 (Step 66500): Train loss 4.334, Test loss 4.907\n",
      "Epoch 5 (Step 67000): Train loss 4.303, Test loss 4.882\n",
      "Epoch 5 (Step 67500): Train loss 4.293, Test loss 4.887\n",
      "Epoch 5 (Step 68000): Train loss 4.290, Test loss 4.871\n",
      "Epoch 5 (Step 68500): Train loss 4.277, Test loss 4.875\n",
      "Epoch 5 (Step 69000): Train loss 4.274, Test loss 4.867\n",
      "Epoch 5 (Step 69500): Train loss 4.292, Test loss 4.864\n",
      "Epoch 5 (Step 70000): Train loss 4.259, Test loss 4.855\n",
      "Epoch 5 (Step 70500): Train loss 4.228, Test loss 4.846\n",
      "Epoch 5 (Step 71000): Train loss 4.291, Test loss 4.851\n",
      "Epoch 5 (Step 71500): Train loss 4.251, Test loss 4.850\n",
      "Epoch 5 (Step 72000): Train loss 4.228, Test loss 4.841\n",
      "Epoch 5 (Step 72500): Train loss 4.225, Test loss 4.831\n",
      "Epoch 5 (Step 73000): Train loss 4.278, Test loss 4.840\n",
      "Epoch 5 (Step 73500): Train loss 4.260, Test loss 4.834\n",
      "Epoch 5 (Step 74000): Train loss 4.208, Test loss 4.817\n",
      "What are human rights?  The idea is that the government is not a member of the United States, but the government is not a member of the United States.  The government is not a member of the United States, but the government is not a member of\n",
      "\n",
      "Training completed in 373.84 minutes.\n"
     ]
    }
   ],
   "source": [
    "import time\n",
    "start = time.time()\n",
    "\n",
    "torch.manual_seed(123)\n",
    "model = SLM(SLM_CONFIG)\n",
    "model.to(device)\n",
    "optimizer = torch.optim.AdamW(model.parameters(), lr = 0.0004, weight_decay = 0.1)\n",
    "\n",
    "num_epochs = 5\n",
    "train_losses, test_losses, tokens_seen = train_model_simple(\n",
    "    model, train_loader, test_loader, optimizer, device, \n",
    "    num_epochs = num_epochs, eval_freq = 500, eval_iter = 500, # after every 500 batches, training and validation loss will be printed\n",
    "    start_context = \"What are human rights?\", tokenizer = tokenizer\n",
    ") \n",
    "\n",
    "end = time.time()\n",
    "training_time = (end - start) / 60\n",
    "print(f\"Training completed in {training_time:.2f} minutes.\")"
   ]
  },
  {
   "cell_type": "markdown",
   "id": "ac416e00",
   "metadata": {},
   "source": [
    "Visualizing the loss plot."
   ]
  },
  {
   "cell_type": "code",
   "execution_count": 47,
   "id": "d1de3630",
   "metadata": {},
   "outputs": [
    {
     "data": {
      "image/png": "[encoded data removed]",
      "text/plain": [
       "<Figure size 700x400 with 1 Axes>"
      ]
     },
     "metadata": {},
     "output_type": "display_data"
    }
   ],
   "source": [
    "import matplotlib.pyplot as plt\n",
    "\n",
    "plt.figure(figsize = (7, 4))\n",
    "\n",
    "epochs = range(1, len(train_losses) + 1)\n",
    "\n",
    "plt.plot(epochs, train_losses, label = 'Training Loss', color = '#2E86AB', linewidth = 1)\n",
    "plt.plot(epochs, test_losses, label = 'Testing Loss', color = '#F24236', linewidth = 1, linestyle='--')\n",
    "\n",
    "plt.title(\"Training & Testing Loss\", fontsize = 14, pad = 10)\n",
    "plt.xlabel(\"Epoch\", fontsize = 10)\n",
    "plt.ylabel(\"Loss\", fontsize = 10)\n",
    "\n",
    "plt.legend(frameon = True, fancybox = True)\n",
    "\n",
    "plt.tight_layout()\n",
    "plt.show()"
   ]
  },
  {
   "cell_type": "markdown",
   "id": "d263e606",
   "metadata": {},
   "source": [
    "Function to implement decoding strategies."
   ]
  },
  {
   "cell_type": "code",
   "execution_count": 48,
   "id": "28bfab06",
   "metadata": {},
   "outputs": [],
   "source": [
    "def generate(model, idx, max_new_tokens, context_size, temperature = 0.0, top_k = None, eos_id = None):\n",
    "    for _ in range(max_new_tokens):\n",
    "        idx_cond = idx[:, -context_size:]\n",
    "        with torch.no_grad():\n",
    "            logits = model(idx_cond)\n",
    "        logits = logits[:, -1, :]\n",
    "\n",
    "        if top_k is not None:\n",
    "            top_logits, _ = torch.topk(logits, top_k)\n",
    "            min_val = top_logits[:, -1]\n",
    "            logits = torch.where(\n",
    "                logits < min_val, \n",
    "                torch.tensor(float(\"-inf\")).to(logits.device),\n",
    "                logits\n",
    "            )\n",
    "\n",
    "        if temperature > 0.0:\n",
    "            logits = logits / temperature\n",
    "            probs = torch.softmax(logits, dim = -1)\n",
    "            idx_next = torch.multinomial(probs, num_samples = 1)\n",
    "\n",
    "        else:\n",
    "            idx_next = torch.argmax(logits, dim = -1, keepdim = True)\n",
    "        \n",
    "        if idx_next == eos_id:\n",
    "            break\n",
    "            \n",
    "        idx = torch.cat((idx, idx_next), dim = 1)\n",
    "    \n",
    "    return idx"
   ]
  },
  {
   "cell_type": "markdown",
   "id": "66377da8",
   "metadata": {},
   "source": [
    "Text generation after applying decoding strategies."
   ]
  },
  {
   "cell_type": "code",
   "execution_count": 58,
   "id": "236957dd",
   "metadata": {},
   "outputs": [
    {
     "name": "stdout",
     "output_type": "stream",
     "text": [
      "Output: I used to think about this kind of stuff. It was a lot of stuff because it was bad. I knew he’d like the show about a bit too much than he did about to get it because he wanted to see the show that it had a good show. This time we would see the film was just something I can find\n"
     ]
    }
   ],
   "source": [
    "# torch.manual_seed(123)\n",
    "\n",
    "token_ids = generate(\n",
    "    model = model, \n",
    "    idx = text_to_token_ids(\"I used to think\", tokenizer).to(device),\n",
    "    max_new_tokens = 65,\n",
    "    context_size = SLM_CONFIG[\"context_len\"],\n",
    "    top_k = 25,\n",
    "    temperature = 1.4\n",
    ")\n",
    "\n",
    "print(\"Output:\", token_ids_to_text(token_ids, tokenizer))"
   ]
  }
 ],
 "metadata": {
  "kernelspec": {
   "display_name": "llm-scratch",
   "language": "python",
   "name": "python3"
  },
  "language_info": {
   "codemirror_mode": {
    "name": "ipython",
    "version": 3
   },
   "file_extension": ".py",
   "mimetype": "text/x-python",
   "name": "python",
   "nbconvert_exporter": "python",
   "pygments_lexer": "ipython3",
   "version": "3.12.11"
  }
 },
 "nbformat": 4,
 "nbformat_minor": 5
}
