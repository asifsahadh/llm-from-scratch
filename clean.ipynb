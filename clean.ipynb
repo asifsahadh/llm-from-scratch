{
 "cells": [
  {
   "cell_type": "markdown",
   "id": "35d2ac6c",
   "metadata": {},
   "source": [
    "### LLM FROM SCRATCH"
   ]
  },
  {
   "cell_type": "markdown",
   "id": "81fc2989",
   "metadata": {},
   "source": [
    "##### _Workflow_\n",
    "1. \n",
    "2."
   ]
  },
  {
   "cell_type": "markdown",
   "id": "67453866",
   "metadata": {},
   "source": [
    "---"
   ]
  },
  {
   "cell_type": "code",
   "execution_count": null,
   "id": "236957dd",
   "metadata": {},
   "outputs": [],
   "source": []
  }
 ],
 "metadata": {
  "kernelspec": {
   "display_name": "llm-scratch",
   "language": "python",
   "name": "python3"
  },
  "language_info": {
   "name": "python",
   "version": "3.12.11"
  }
 },
 "nbformat": 4,
 "nbformat_minor": 5
}
