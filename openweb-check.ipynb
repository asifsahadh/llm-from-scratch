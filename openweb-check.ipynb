{
 "cells": [
  {
   "cell_type": "markdown",
   "id": "0a6f5afb",
   "metadata": {},
   "source": [
    "#### Getting Text from Openweb Dataset"
   ]
  },
  {
   "cell_type": "code",
   "execution_count": 2,
   "id": "3f83f45e",
   "metadata": {},
   "outputs": [
    {
     "name": "stdout",
     "output_type": "stream",
     "text": [
      "Number of tokens: 3,378,008,151\n",
      "First 20 token IDs: [38885   290  7996   389   531   284   307 19026   286  1692  2489    11\n",
      "   475   355   262 10551 23649 10731  2904  3751]\n"
     ]
    }
   ],
   "source": [
    "import numpy as np\n",
    "\n",
    "data = np.memmap(\"train.bin\", dtype = np.uint16, mode = \"r\")\n",
    "print(\"Number of tokens:\", f\"{len(data):,}\")\n",
    "print(\"First 20 token IDs:\", data[:20])"
   ]
  },
  {
   "cell_type": "code",
   "execution_count": 4,
   "id": "9970c60e",
   "metadata": {},
   "outputs": [
    {
     "name": "stdout",
     "output_type": "stream",
     "text": [
      "Freedom and democracy are said to be guarantees of human rights, but as the NSA spying scandal recently showed\n"
     ]
    }
   ],
   "source": [
    "import tiktoken\n",
    "\n",
    "enc = tiktoken.get_encoding(\"gpt2\")\n",
    "decoded_text = enc.decode(data[:20])\n",
    "print(decoded_text)"
   ]
  },
  {
   "cell_type": "code",
   "execution_count": 13,
   "id": "15b6a23d",
   "metadata": {},
   "outputs": [
    {
     "data": {
      "text/plain": [
       "'Freedom'"
      ]
     },
     "execution_count": 13,
     "metadata": {},
     "output_type": "execute_result"
    }
   ],
   "source": [
    "enc.decode([38885])"
   ]
  }
 ],
 "metadata": {
  "kernelspec": {
   "display_name": "llm-scratch",
   "language": "python",
   "name": "python3"
  },
  "language_info": {
   "codemirror_mode": {
    "name": "ipython",
    "version": 3
   },
   "file_extension": ".py",
   "mimetype": "text/x-python",
   "name": "python",
   "nbconvert_exporter": "python",
   "pygments_lexer": "ipython3",
   "version": "3.12.11"
  }
 },
 "nbformat": 4,
 "nbformat_minor": 5
}
